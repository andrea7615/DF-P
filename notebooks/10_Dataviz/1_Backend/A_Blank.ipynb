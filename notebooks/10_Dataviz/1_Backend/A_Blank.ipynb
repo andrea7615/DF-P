{
 "cells": [
  {
   "attachments": {},
   "cell_type": "markdown",
   "id": "9d054a26",
   "metadata": {
    "papermill": {
     "duration": 0.004274,
     "end_time": "2024-06-15T23:13:10.145437",
     "exception": false,
     "start_time": "2024-06-15T23:13:10.141163",
     "status": "completed"
    },
    "tags": []
   },
   "source": [
    "# Basic Streamlit App"
   ]
  },
  {
   "attachments": {},
   "cell_type": "markdown",
   "id": "13a1ab19",
   "metadata": {
    "papermill": {
     "duration": 0.002666,
     "end_time": "2024-06-15T23:13:10.151381",
     "exception": false,
     "start_time": "2024-06-15T23:13:10.148715",
     "status": "completed"
    },
    "tags": []
   },
   "source": [
    "## Load data"
   ]
  },
  {
   "attachments": {},
   "cell_type": "markdown",
   "id": "d206527f",
   "metadata": {
    "papermill": {
     "duration": 0.000592,
     "end_time": "2024-06-15T23:13:10.170460",
     "exception": false,
     "start_time": "2024-06-15T23:13:10.169868",
     "status": "completed"
    },
    "tags": []
   },
   "source": [
    "## Data visualization"
   ]
  },
  {
   "cell_type": "code",
   "execution_count": 9,
   "id": "a2f9ac1a",
   "metadata": {
    "execution": {
     "iopub.execute_input": "2024-06-15T23:13:10.172278Z",
     "iopub.status.busy": "2024-06-15T23:13:10.172175Z",
     "iopub.status.idle": "2024-06-15T23:13:10.746540Z",
     "shell.execute_reply": "2024-06-15T23:13:10.746188Z"
    },
    "papermill": {
     "duration": 0.576319,
     "end_time": "2024-06-15T23:13:10.747445",
     "exception": false,
     "start_time": "2024-06-15T23:13:10.171126",
     "status": "completed"
    },
    "tags": []
   },
   "outputs": [],
   "source": [
    "import plotly.express as px"
   ]
  },
  {
   "cell_type": "code",
   "execution_count": 14,
   "id": "639f6c66",
   "metadata": {},
   "outputs": [
    {
     "ename": "NameError",
     "evalue": "name 'df' is not defined",
     "output_type": "error",
     "traceback": [
      "\u001b[0;31m---------------------------------------------------------------------------\u001b[0m",
      "\u001b[0;31mNameError\u001b[0m                                 Traceback (most recent call last)",
      "Cell \u001b[0;32mIn[14], line 2\u001b[0m\n\u001b[1;32m      1\u001b[0m fig \u001b[38;5;241m=\u001b[39m px\u001b[38;5;241m.\u001b[39mscatter(\n\u001b[0;32m----> 2\u001b[0m     data_frame\u001b[38;5;241m=\u001b[39m\u001b[43mdf\u001b[49m, x\u001b[38;5;241m=\u001b[39m\u001b[38;5;124m\"\u001b[39m\u001b[38;5;124mgdpPercap\u001b[39m\u001b[38;5;124m\"\u001b[39m, y\u001b[38;5;241m=\u001b[39m\u001b[38;5;124m\"\u001b[39m\u001b[38;5;124mlifeExp\u001b[39m\u001b[38;5;124m\"\u001b[39m,\n\u001b[1;32m      3\u001b[0m     size\u001b[38;5;241m=\u001b[39m\u001b[38;5;124m\"\u001b[39m\u001b[38;5;124mpop\u001b[39m\u001b[38;5;124m\"\u001b[39m, color\u001b[38;5;241m=\u001b[39m\u001b[38;5;124m\"\u001b[39m\u001b[38;5;124mcontinent\u001b[39m\u001b[38;5;124m\"\u001b[39m, hover_name\u001b[38;5;241m=\u001b[39m\u001b[38;5;124m\"\u001b[39m\u001b[38;5;124mcountry\u001b[39m\u001b[38;5;124m\"\u001b[39m,\n\u001b[1;32m      4\u001b[0m     animation_frame\u001b[38;5;241m=\u001b[39m\u001b[38;5;124m\"\u001b[39m\u001b[38;5;124myear\u001b[39m\u001b[38;5;124m\"\u001b[39m, animation_group\u001b[38;5;241m=\u001b[39m\u001b[38;5;124m\"\u001b[39m\u001b[38;5;124mcountry\u001b[39m\u001b[38;5;124m\"\u001b[39m,\n\u001b[1;32m      5\u001b[0m     log_x\u001b[38;5;241m=\u001b[39m\u001b[38;5;28;01mTrue\u001b[39;00m, size_max\u001b[38;5;241m=\u001b[39m\u001b[38;5;241m55\u001b[39m, range_x\u001b[38;5;241m=\u001b[39m[\u001b[38;5;241m100\u001b[39m,\u001b[38;5;241m100000\u001b[39m], range_y\u001b[38;5;241m=\u001b[39m[\u001b[38;5;241m25\u001b[39m,\u001b[38;5;241m90\u001b[39m]\n\u001b[1;32m      6\u001b[0m )\n\u001b[1;32m      8\u001b[0m fig\n",
      "\u001b[0;31mNameError\u001b[0m: name 'df' is not defined"
     ]
    }
   ],
   "source": [
    "\n",
    "fig = px.scatter(\n",
    "    data_frame=df, x=\"gdpPercap\", y=\"lifeExp\",\n",
    "    size=\"pop\", color=\"continent\", hover_name=\"country\",\n",
    "    animation_frame=\"year\", animation_group=\"country\",\n",
    "    log_x=True, size_max=55, range_x=[100,100000], range_y=[25,90]\n",
    ")\n",
    "\n",
    "fig\n"
   ]
  },
  {
   "attachments": {},
   "cell_type": "markdown",
   "id": "89a049f0",
   "metadata": {
    "papermill": {
     "duration": 0.001094,
     "end_time": "2024-06-15T23:13:10.749850",
     "exception": false,
     "start_time": "2024-06-15T23:13:10.748756",
     "status": "completed"
    },
    "tags": []
   },
   "source": [
    "## Create app\n",
    "\n",
    "1. Create a file `app.py`\n",
    "2. Add the previous code"
   ]
  }
 ],
 "metadata": {
  "kernelspec": {
   "display_name": "Python 3",
   "language": "python",
   "name": "python3"
  },
  "language_info": {
   "codemirror_mode": {
    "name": "ipython",
    "version": 3
   },
   "file_extension": ".py",
   "mimetype": "text/x-python",
   "name": "python",
   "nbconvert_exporter": "python",
   "pygments_lexer": "ipython3",
   "version": "3.11.4"
  },
  "papermill": {
   "default_parameters": {},
   "duration": 1.578603,
   "end_time": "2024-06-15T23:13:10.967848",
   "environment_variables": {},
   "exception": null,
   "input_path": "/Users/sota/Library/CloudStorage/Dropbox/2 Business/1 Datons/2 Areas/Courses/2 Catalogue/10 DF/1 Materials/DF-P/notebooks/10_Dataviz/1_Backend/B_Solution.ipynb",
   "output_path": "/Users/sota/Library/CloudStorage/Dropbox/2 Business/1 Datons/2 Areas/Courses/2 Catalogue/10 DF/1 Materials/DF-P/notebooks/10_Dataviz/1_Backend/B_Solution.ipynb",
   "parameters": {},
   "start_time": "2024-06-15T23:13:09.389245",
   "version": "2.6.0"
  }
 },
 "nbformat": 4,
 "nbformat_minor": 5
}
